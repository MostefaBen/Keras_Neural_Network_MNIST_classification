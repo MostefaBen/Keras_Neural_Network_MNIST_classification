{
 "cells": [
  {
   "cell_type": "markdown",
   "metadata": {},
   "source": [
    "# MNIST Classification using fully connected Neural Networks\n",
    "We will use keras a deep learning library with tensorflow as backend"
   ]
  },
  {
   "cell_type": "markdown",
   "metadata": {},
   "source": [
    "1) First step is: the imports"
   ]
  },
  {
   "cell_type": "code",
   "execution_count": 1,
   "metadata": {
    "collapsed": false,
    "scrolled": true
   },
   "outputs": [
    {
     "name": "stderr",
     "output_type": "stream",
     "text": [
      "Using TensorFlow backend.\n"
     ]
    }
   ],
   "source": [
    "from keras.datasets import mnist\n",
    "from keras.models import Sequential\n",
    "from keras.layers import Dense, Dropout\n",
    "from keras.optimizers import SGD\n",
    "from keras.utils import to_categorical "
   ]
  },
  {
   "cell_type": "markdown",
   "metadata": {},
   "source": [
    "2) Second step is: data collection, "
   ]
  },
  {
   "cell_type": "markdown",
   "metadata": {},
   "source": [
    "#with the folloing instruction, we will download the mnist data from the server"
   ]
  },
  {
   "cell_type": "code",
   "execution_count": 2,
   "metadata": {
    "collapsed": true
   },
   "outputs": [],
   "source": [
    "(x_train, y_train), (x_test, y_test) = mnist.load_data()"
   ]
  },
  {
   "cell_type": "markdown",
   "metadata": {},
   "source": [
    "#(x_train, y_train) is the training dataset, where (x_test, y_test) is the testing dataset"
   ]
  },
  {
   "cell_type": "markdown",
   "metadata": {},
   "source": [
    "3) third step is: data preparation"
   ]
  },
  {
   "cell_type": "markdown",
   "metadata": {},
   "source": [
    "#we will reshape the MNIST dataset to become 60,000 examples (ie. images) for the training dataset, and 10,000 examples (ie. images) for the testing dataet, and the input to the Network is 784 because each images has 28 x 28 pixels"
   ]
  },
  {
   "cell_type": "code",
   "execution_count": 3,
   "metadata": {
    "collapsed": true
   },
   "outputs": [],
   "source": [
    "x_train = x_train.reshape(60000, 784)\n",
    "x_test  = x_test.reshape(10000, 784)\n",
    "x_train = x_train.astype('float32')\n",
    "x_test  = x_test.astype('float32')"
   ]
  },
  {
   "cell_type": "markdown",
   "metadata": {},
   "source": [
    "4) fourth step is data normalization:"
   ]
  },
  {
   "cell_type": "markdown",
   "metadata": {},
   "source": [
    "#Artificial neural networks provide good performance when the data is normalized"
   ]
  },
  {
   "cell_type": "code",
   "execution_count": 4,
   "metadata": {
    "collapsed": true
   },
   "outputs": [],
   "source": [
    "x_train /= 255\n",
    "x_test /= 255"
   ]
  },
  {
   "cell_type": "markdown",
   "metadata": {},
   "source": [
    "5) fifth step is data tranformation:"
   ]
  },
  {
   "cell_type": "markdown",
   "metadata": {},
   "source": [
    "#we will convert the vector of labels (desired vector) to binary class matrices, thus each row in this matrix will become as one-hot encoding"
   ]
  },
  {
   "cell_type": "code",
   "execution_count": 5,
   "metadata": {
    "collapsed": true
   },
   "outputs": [],
   "source": [
    "y_train = to_categorical(y_train, 10)\n",
    "y_test =  to_categorical(y_test, 10)"
   ]
  },
  {
   "cell_type": "markdown",
   "metadata": {},
   "source": [
    "6) sixth step is: to define the model"
   ]
  },
  {
   "cell_type": "markdown",
   "metadata": {},
   "source": [
    "#we will create one input layer that has 787 neurons, and two hidden layers, each layer has 128 neurons, finally an output layer that has 10 neurons"
   ]
  },
  {
   "cell_type": "markdown",
   "metadata": {},
   "source": [
    "#RELU(x) = max(0,x) is a non-linear function\n",
    "#softmax is another non-linear function, we use this function to squash the outputs of the Artificial neural networks to be between 0 and 1"
   ]
  },
  {
   "cell_type": "code",
   "execution_count": 6,
   "metadata": {
    "collapsed": true
   },
   "outputs": [],
   "source": [
    "model = Sequential()\n",
    "model.add(Dense(128, activation='relu', input_shape=(784,)))\n",
    "model.add(Dense(128, activation='relu'))\n",
    "model.add(Dense(10, activation='softmax'))\n",
    "model.summary()"
   ]
  },
  {
   "cell_type": "markdown",
   "metadata": {},
   "source": [
    "7) seventh step is: to compile the created model, thus this model will become as a computaional graph"
   ]
  },
  {
   "cell_type": "code",
   "execution_count": 7,
   "metadata": {
    "collapsed": true
   },
   "outputs": [],
   "source": [
    "model.compile(loss='categorical_crossentropy',optimizer=SGD(), metrics=['accuracy'])"
   ]
  },
  {
   "cell_type": "markdown",
   "metadata": {},
   "source": [
    "8) eighth step: after doing all above steps, we can start the model training "
   ]
  },
  {
   "cell_type": "markdown",
   "metadata": {},
   "source": [
    "#batch_size the number of training images in one forward/backward pass, this technique is faster and it has demonstrated that is better than using all dataset simultaneously"
   ]
  },
  {
   "cell_type": "markdown",
   "metadata": {},
   "source": [
    "#epochs: one forward pass and one backward pass of all the training images"
   ]
  },
  {
   "cell_type": "code",
   "execution_count": 8,
   "metadata": {
    "collapsed": false
   },
   "outputs": [
    {
     "name": "stdout",
     "output_type": "stream",
     "text": [
      "Train on 60000 samples, validate on 10000 samples\n",
      "Epoch 1/10\n",
      "60000/60000 [==============================] - 6s 101us/step - loss: 0.8960 - acc: 0.7624 - val_loss: 0.4014 - val_acc: 0.8929\n",
      "Epoch 2/10\n",
      "60000/60000 [==============================] - 5s 80us/step - loss: 0.3647 - acc: 0.8981 - val_loss: 0.3126 - val_acc: 0.9103\n",
      "Epoch 3/10\n",
      "60000/60000 [==============================] - 5s 80us/step - loss: 0.3045 - acc: 0.9137 - val_loss: 0.2737 - val_acc: 0.9229\n",
      "Epoch 4/10\n",
      "60000/60000 [==============================] - 5s 80us/step - loss: 0.2709 - acc: 0.9228 - val_loss: 0.2460 - val_acc: 0.9292\n",
      "Epoch 5/10\n",
      "60000/60000 [==============================] - 5s 81us/step - loss: 0.2458 - acc: 0.9298 - val_loss: 0.2283 - val_acc: 0.9339\n",
      "Epoch 6/10\n",
      "60000/60000 [==============================] - 5s 80us/step - loss: 0.2256 - acc: 0.9357 - val_loss: 0.2115 - val_acc: 0.9377\n",
      "Epoch 7/10\n",
      "60000/60000 [==============================] - 5s 79us/step - loss: 0.2087 - acc: 0.9408 - val_loss: 0.1986 - val_acc: 0.9417\n",
      "Epoch 8/10\n",
      "60000/60000 [==============================] - 5s 81us/step - loss: 0.1947 - acc: 0.9446 - val_loss: 0.1872 - val_acc: 0.9461\n",
      "Epoch 9/10\n",
      "60000/60000 [==============================] - 5s 80us/step - loss: 0.1824 - acc: 0.9480 - val_loss: 0.1769 - val_acc: 0.9491\n",
      "Epoch 10/10\n",
      "60000/60000 [==============================] - 5s 79us/step - loss: 0.1717 - acc: 0.9514 - val_loss: 0.1681 - val_acc: 0.9509\n"
     ]
    }
   ],
   "source": [
    "history = model.fit(x_train, y_train, batch_size=64, epochs=10, validation_data=(x_test, y_test))"
   ]
  },
  {
   "cell_type": "markdown",
   "metadata": {},
   "source": [
    "9) the last step is model evaluation"
   ]
  },
  {
   "cell_type": "code",
   "execution_count": 9,
   "metadata": {
    "collapsed": false
   },
   "outputs": [
    {
     "name": "stdout",
     "output_type": "stream",
     "text": [
      "Test loss: 0.16808781869783998\n",
      "Test accuracy: 0.9509\n"
     ]
    }
   ],
   "source": [
    "score = model.evaluate(x_test, y_test, verbose=0)\n",
    "print('Test loss:', score[0])\n",
    "print('Test accuracy:', score[1])"
   ]
  },
  {
   "cell_type": "markdown",
   "metadata": {},
   "source": [
    "#After developing fully connected Artifial Neural Networks, we have obtained a test accuracy = 0.95, and a test loss = 0.16"
   ]
  },
  {
   "cell_type": "markdown",
   "metadata": {},
   "source": [
    "# To improve the proposed fully connected model, there are many methods and steps"
   ]
  },
  {
   "cell_type": "markdown",
   "metadata": {},
   "source": [
    "1) first step: adding more epochs, for examples epochs = 30"
   ]
  },
  {
   "cell_type": "code",
   "execution_count": 10,
   "metadata": {
    "collapsed": false
   },
   "outputs": [
    {
     "name": "stdout",
     "output_type": "stream",
     "text": [
      "Train on 60000 samples, validate on 10000 samples\n",
      "Epoch 1/30\n",
      "60000/60000 [==============================] - 5s 87us/step - loss: 0.1622 - acc: 0.9540 - val_loss: 0.1585 - val_acc: 0.9534\n",
      "Epoch 2/30\n",
      "60000/60000 [==============================] - 5s 82us/step - loss: 0.1535 - acc: 0.9562 - val_loss: 0.1532 - val_acc: 0.9550\n",
      "Epoch 3/30\n",
      "60000/60000 [==============================] - 5s 82us/step - loss: 0.1460 - acc: 0.9591 - val_loss: 0.1466 - val_acc: 0.9565\n",
      "Epoch 4/30\n",
      "60000/60000 [==============================] - 6s 94us/step - loss: 0.1389 - acc: 0.9609 - val_loss: 0.1413 - val_acc: 0.9582\n",
      "Epoch 5/30\n",
      "60000/60000 [==============================] - 5s 89us/step - loss: 0.1326 - acc: 0.9631 - val_loss: 0.1361 - val_acc: 0.9602\n",
      "Epoch 6/30\n",
      "60000/60000 [==============================] - 5s 87us/step - loss: 0.1266 - acc: 0.9643 - val_loss: 0.1304 - val_acc: 0.9614\n",
      "Epoch 7/30\n",
      "60000/60000 [==============================] - 5s 88us/step - loss: 0.1215 - acc: 0.9663 - val_loss: 0.1262 - val_acc: 0.9639\n",
      "Epoch 8/30\n",
      "60000/60000 [==============================] - 5s 81us/step - loss: 0.1160 - acc: 0.9676 - val_loss: 0.1215 - val_acc: 0.9649\n",
      "Epoch 9/30\n",
      "60000/60000 [==============================] - 5s 81us/step - loss: 0.1116 - acc: 0.9688 - val_loss: 0.1208 - val_acc: 0.9646\n",
      "Epoch 10/30\n",
      "60000/60000 [==============================] - 5s 81us/step - loss: 0.1071 - acc: 0.9702 - val_loss: 0.1169 - val_acc: 0.9663\n",
      "Epoch 11/30\n",
      "60000/60000 [==============================] - 5s 82us/step - loss: 0.1028 - acc: 0.9715 - val_loss: 0.1154 - val_acc: 0.9660\n",
      "Epoch 12/30\n",
      "60000/60000 [==============================] - 5s 82us/step - loss: 0.0991 - acc: 0.9723 - val_loss: 0.1118 - val_acc: 0.9671\n",
      "Epoch 13/30\n",
      "60000/60000 [==============================] - 5s 81us/step - loss: 0.0956 - acc: 0.9732 - val_loss: 0.1090 - val_acc: 0.9686\n",
      "Epoch 14/30\n",
      "60000/60000 [==============================] - 5s 87us/step - loss: 0.0922 - acc: 0.9742 - val_loss: 0.1082 - val_acc: 0.9668\n",
      "Epoch 15/30\n",
      "60000/60000 [==============================] - 5s 84us/step - loss: 0.0892 - acc: 0.9754 - val_loss: 0.1021 - val_acc: 0.9693\n",
      "Epoch 16/30\n",
      "60000/60000 [==============================] - 6s 95us/step - loss: 0.0858 - acc: 0.9762 - val_loss: 0.1023 - val_acc: 0.9693\n",
      "Epoch 17/30\n",
      "60000/60000 [==============================] - 6s 100us/step - loss: 0.0829 - acc: 0.9771 - val_loss: 0.0991 - val_acc: 0.9702\n",
      "Epoch 18/30\n",
      "60000/60000 [==============================] - 5s 89us/step - loss: 0.0802 - acc: 0.9780 - val_loss: 0.0974 - val_acc: 0.9706\n",
      "Epoch 19/30\n",
      "60000/60000 [==============================] - 5s 81us/step - loss: 0.0773 - acc: 0.9786 - val_loss: 0.0954 - val_acc: 0.9701\n",
      "Epoch 20/30\n",
      "60000/60000 [==============================] - 5s 87us/step - loss: 0.0751 - acc: 0.9792 - val_loss: 0.0928 - val_acc: 0.9713\n",
      "Epoch 21/30\n",
      "60000/60000 [==============================] - 5s 85us/step - loss: 0.0726 - acc: 0.9800 - val_loss: 0.0926 - val_acc: 0.9715\n",
      "Epoch 22/30\n",
      "60000/60000 [==============================] - 5s 83us/step - loss: 0.0705 - acc: 0.9805 - val_loss: 0.0924 - val_acc: 0.9716\n",
      "Epoch 23/30\n",
      "60000/60000 [==============================] - 5s 83us/step - loss: 0.0683 - acc: 0.9815 - val_loss: 0.0924 - val_acc: 0.9724\n",
      "Epoch 24/30\n",
      "60000/60000 [==============================] - 5s 82us/step - loss: 0.0660 - acc: 0.9822 - val_loss: 0.0898 - val_acc: 0.9726\n",
      "Epoch 25/30\n",
      "60000/60000 [==============================] - 5s 81us/step - loss: 0.0643 - acc: 0.9824 - val_loss: 0.0912 - val_acc: 0.9724\n",
      "Epoch 26/30\n",
      "60000/60000 [==============================] - 5s 83us/step - loss: 0.0624 - acc: 0.9829 - val_loss: 0.0881 - val_acc: 0.9726\n",
      "Epoch 27/30\n",
      "60000/60000 [==============================] - 5s 84us/step - loss: 0.0605 - acc: 0.9835 - val_loss: 0.0865 - val_acc: 0.9735\n",
      "Epoch 28/30\n",
      "60000/60000 [==============================] - 5s 82us/step - loss: 0.0588 - acc: 0.9838 - val_loss: 0.0880 - val_acc: 0.9733\n",
      "Epoch 29/30\n",
      "60000/60000 [==============================] - 5s 82us/step - loss: 0.0572 - acc: 0.9844 - val_loss: 0.0869 - val_acc: 0.9739\n",
      "Epoch 30/30\n",
      "60000/60000 [==============================] - 5s 83us/step - loss: 0.0556 - acc: 0.9848 - val_loss: 0.0845 - val_acc: 0.9740\n"
     ]
    }
   ],
   "source": [
    "history = model.fit(x_train, y_train, batch_size=64, epochs=30, validation_data=(x_test, y_test))"
   ]
  },
  {
   "cell_type": "code",
   "execution_count": null,
   "metadata": {
    "collapsed": true
   },
   "outputs": [],
   "source": [
    "#with only epochs =30, we have obtianed "
   ]
  },
  {
   "cell_type": "code",
   "execution_count": 11,
   "metadata": {
    "collapsed": false
   },
   "outputs": [
    {
     "name": "stdout",
     "output_type": "stream",
     "text": [
      "Test loss: 0.08447478631325066\n",
      "Test accuracy: 0.974\n"
     ]
    }
   ],
   "source": [
    "score = model.evaluate(x_test, y_test, verbose=0)\n",
    "print('Test loss:', score[0])\n",
    "print('Test accuracy:', score[1])"
   ]
  },
  {
   "cell_type": "markdown",
   "metadata": {},
   "source": [
    "#with only epochs = 30, we have obtained a test accuracy = 0.974, and a test loss = 0.084, these results with adding more epochs we have obtained better results than the above results"
   ]
  },
  {
   "cell_type": "markdown",
   "metadata": {},
   "source": [
    "2) second step: to obtain more accurate results, we adjust the batch size, for examples batch size = 128"
   ]
  },
  {
   "cell_type": "code",
   "execution_count": 12,
   "metadata": {
    "collapsed": false
   },
   "outputs": [
    {
     "name": "stdout",
     "output_type": "stream",
     "text": [
      "Train on 60000 samples, validate on 10000 samples\n",
      "Epoch 1/30\n",
      "60000/60000 [==============================] - 5s 85us/step - loss: 0.0540 - acc: 0.9855 - val_loss: 0.0845 - val_acc: 0.9741\n",
      "Epoch 2/30\n",
      "60000/60000 [==============================] - 5s 80us/step - loss: 0.0525 - acc: 0.9857 - val_loss: 0.0848 - val_acc: 0.9736\n",
      "Epoch 3/30\n",
      "60000/60000 [==============================] - 5s 80us/step - loss: 0.0514 - acc: 0.9861 - val_loss: 0.0839 - val_acc: 0.9743\n",
      "Epoch 4/30\n",
      "60000/60000 [==============================] - 5s 82us/step - loss: 0.0497 - acc: 0.9869 - val_loss: 0.0817 - val_acc: 0.9746\n",
      "Epoch 5/30\n",
      "60000/60000 [==============================] - 5s 81us/step - loss: 0.0484 - acc: 0.9871 - val_loss: 0.0812 - val_acc: 0.9746\n",
      "Epoch 6/30\n",
      "60000/60000 [==============================] - 5s 82us/step - loss: 0.0469 - acc: 0.9877 - val_loss: 0.0809 - val_acc: 0.9748\n",
      "Epoch 7/30\n",
      "60000/60000 [==============================] - 5s 81us/step - loss: 0.0459 - acc: 0.9879 - val_loss: 0.0818 - val_acc: 0.9742\n",
      "Epoch 8/30\n",
      "60000/60000 [==============================] - 5s 81us/step - loss: 0.0446 - acc: 0.9883 - val_loss: 0.0805 - val_acc: 0.9748\n",
      "Epoch 9/30\n",
      "60000/60000 [==============================] - 5s 81us/step - loss: 0.0435 - acc: 0.9886 - val_loss: 0.0787 - val_acc: 0.9746\n",
      "Epoch 10/30\n",
      "60000/60000 [==============================] - 5s 82us/step - loss: 0.0423 - acc: 0.9890 - val_loss: 0.0799 - val_acc: 0.9750\n",
      "Epoch 11/30\n",
      "60000/60000 [==============================] - 5s 80us/step - loss: 0.0411 - acc: 0.9895 - val_loss: 0.0785 - val_acc: 0.9751\n",
      "Epoch 12/30\n",
      "60000/60000 [==============================] - 5s 80us/step - loss: 0.0403 - acc: 0.9895 - val_loss: 0.0787 - val_acc: 0.9761\n",
      "Epoch 13/30\n",
      "60000/60000 [==============================] - 5s 81us/step - loss: 0.0392 - acc: 0.9899 - val_loss: 0.0772 - val_acc: 0.9752\n",
      "Epoch 14/30\n",
      "60000/60000 [==============================] - 5s 81us/step - loss: 0.0382 - acc: 0.9902 - val_loss: 0.0779 - val_acc: 0.9753\n",
      "Epoch 15/30\n",
      "60000/60000 [==============================] - 5s 81us/step - loss: 0.0372 - acc: 0.9905 - val_loss: 0.0771 - val_acc: 0.9755\n",
      "Epoch 16/30\n",
      "60000/60000 [==============================] - 5s 83us/step - loss: 0.0363 - acc: 0.9908 - val_loss: 0.0775 - val_acc: 0.9754\n",
      "Epoch 17/30\n",
      "60000/60000 [==============================] - 5s 83us/step - loss: 0.0353 - acc: 0.9909 - val_loss: 0.0771 - val_acc: 0.9763\n",
      "Epoch 18/30\n",
      "60000/60000 [==============================] - 5s 83us/step - loss: 0.0346 - acc: 0.9911 - val_loss: 0.0754 - val_acc: 0.9756\n",
      "Epoch 19/30\n",
      "60000/60000 [==============================] - 5s 82us/step - loss: 0.0336 - acc: 0.9916 - val_loss: 0.0757 - val_acc: 0.9767\n",
      "Epoch 20/30\n",
      "60000/60000 [==============================] - 5s 85us/step - loss: 0.0328 - acc: 0.9920 - val_loss: 0.0749 - val_acc: 0.9760\n",
      "Epoch 21/30\n",
      "60000/60000 [==============================] - 5s 84us/step - loss: 0.0320 - acc: 0.9921 - val_loss: 0.0759 - val_acc: 0.9766\n",
      "Epoch 22/30\n",
      "60000/60000 [==============================] - 5s 85us/step - loss: 0.0313 - acc: 0.9926 - val_loss: 0.0738 - val_acc: 0.9763\n",
      "Epoch 23/30\n",
      "60000/60000 [==============================] - 5s 83us/step - loss: 0.0304 - acc: 0.9928 - val_loss: 0.0758 - val_acc: 0.9764\n",
      "Epoch 24/30\n",
      "60000/60000 [==============================] - 5s 82us/step - loss: 0.0297 - acc: 0.9928 - val_loss: 0.0747 - val_acc: 0.9765\n",
      "Epoch 25/30\n",
      "60000/60000 [==============================] - 5s 82us/step - loss: 0.0290 - acc: 0.9932 - val_loss: 0.0753 - val_acc: 0.9762\n",
      "Epoch 26/30\n",
      "60000/60000 [==============================] - 5s 82us/step - loss: 0.0282 - acc: 0.9936 - val_loss: 0.0759 - val_acc: 0.9766\n",
      "Epoch 27/30\n",
      "60000/60000 [==============================] - 5s 82us/step - loss: 0.0276 - acc: 0.9940 - val_loss: 0.0747 - val_acc: 0.9765\n",
      "Epoch 28/30\n",
      "60000/60000 [==============================] - 5s 81us/step - loss: 0.0269 - acc: 0.9941 - val_loss: 0.0739 - val_acc: 0.9769\n",
      "Epoch 29/30\n",
      "60000/60000 [==============================] - 5s 83us/step - loss: 0.0263 - acc: 0.9941 - val_loss: 0.0736 - val_acc: 0.9770\n",
      "Epoch 30/30\n",
      "60000/60000 [==============================] - 5s 84us/step - loss: 0.0257 - acc: 0.9946 - val_loss: 0.0758 - val_acc: 0.9769\n"
     ]
    }
   ],
   "source": [
    "history = model.fit(x_train, y_train, batch_size=64, epochs=30, validation_data=(x_test, y_test))"
   ]
  },
  {
   "cell_type": "code",
   "execution_count": 13,
   "metadata": {
    "collapsed": false
   },
   "outputs": [
    {
     "name": "stdout",
     "output_type": "stream",
     "text": [
      "Test loss: 0.07582007238190853\n",
      "Test accuracy: 0.9769\n"
     ]
    }
   ],
   "source": [
    "score = model.evaluate(x_test, y_test, verbose=0)\n",
    "print('Test loss:', score[0])\n",
    "print('Test accuracy:', score[1])"
   ]
  },
  {
   "cell_type": "markdown",
   "metadata": {},
   "source": [
    "#with batch size = 128, we have obtained a test accuracy = 0.976, and a test loss = 0.075, these results is betten than the above results"
   ]
  },
  {
   "cell_type": "markdown",
   "metadata": {},
   "source": [
    "3) to avoid the problem of unbalanced data, we add a weighted cross entropy loss function instead of cross entropy loss function\n",
    "there are several methods to get the best weight for each class, but here we will assign each weight to 0.1"
   ]
  },
  {
   "cell_type": "code",
   "execution_count": 15,
   "metadata": {
    "collapsed": false
   },
   "outputs": [
    {
     "name": "stdout",
     "output_type": "stream",
     "text": [
      "Train on 60000 samples, validate on 10000 samples\n",
      "Epoch 1/30\n",
      "60000/60000 [==============================] - 3s 47us/step - loss: 0.0241 - acc: 0.9952 - val_loss: 0.0737 - val_acc: 0.9770\n",
      "Epoch 2/30\n",
      "60000/60000 [==============================] - 3s 45us/step - loss: 0.0237 - acc: 0.9953 - val_loss: 0.0743 - val_acc: 0.9766\n",
      "Epoch 3/30\n",
      "60000/60000 [==============================] - 3s 45us/step - loss: 0.0235 - acc: 0.9952 - val_loss: 0.0754 - val_acc: 0.9768\n",
      "Epoch 4/30\n",
      "60000/60000 [==============================] - 3s 45us/step - loss: 0.0231 - acc: 0.9953 - val_loss: 0.0745 - val_acc: 0.9765\n",
      "Epoch 5/30\n",
      "60000/60000 [==============================] - 3s 46us/step - loss: 0.0229 - acc: 0.9956 - val_loss: 0.0734 - val_acc: 0.9770\n",
      "Epoch 6/30\n",
      "60000/60000 [==============================] - 3s 46us/step - loss: 0.0226 - acc: 0.9956 - val_loss: 0.0734 - val_acc: 0.9771\n",
      "Epoch 7/30\n",
      "60000/60000 [==============================] - 3s 45us/step - loss: 0.0223 - acc: 0.9957 - val_loss: 0.0739 - val_acc: 0.9771\n",
      "Epoch 8/30\n",
      "60000/60000 [==============================] - 3s 46us/step - loss: 0.0221 - acc: 0.9958 - val_loss: 0.0735 - val_acc: 0.9774\n",
      "Epoch 9/30\n",
      "60000/60000 [==============================] - 3s 45us/step - loss: 0.0219 - acc: 0.9959 - val_loss: 0.0742 - val_acc: 0.9774\n",
      "Epoch 10/30\n",
      "60000/60000 [==============================] - 3s 46us/step - loss: 0.0215 - acc: 0.9960 - val_loss: 0.0753 - val_acc: 0.9769\n",
      "Epoch 11/30\n",
      "60000/60000 [==============================] - 3s 46us/step - loss: 0.0213 - acc: 0.9962 - val_loss: 0.0733 - val_acc: 0.9771\n",
      "Epoch 12/30\n",
      "60000/60000 [==============================] - 3s 47us/step - loss: 0.0211 - acc: 0.9961 - val_loss: 0.0735 - val_acc: 0.9773\n",
      "Epoch 13/30\n",
      "60000/60000 [==============================] - 3s 46us/step - loss: 0.0207 - acc: 0.9963 - val_loss: 0.0739 - val_acc: 0.9774\n",
      "Epoch 14/30\n",
      "60000/60000 [==============================] - 3s 49us/step - loss: 0.0205 - acc: 0.9960 - val_loss: 0.0739 - val_acc: 0.9771\n",
      "Epoch 15/30\n",
      "60000/60000 [==============================] - 3s 48us/step - loss: 0.0202 - acc: 0.9962 - val_loss: 0.0737 - val_acc: 0.9772\n",
      "Epoch 16/30\n",
      "60000/60000 [==============================] - 3s 47us/step - loss: 0.0200 - acc: 0.9962 - val_loss: 0.0739 - val_acc: 0.9768\n",
      "Epoch 17/30\n",
      "60000/60000 [==============================] - 3s 45us/step - loss: 0.0198 - acc: 0.9964 - val_loss: 0.0731 - val_acc: 0.9774\n",
      "Epoch 18/30\n",
      "60000/60000 [==============================] - 3s 46us/step - loss: 0.0196 - acc: 0.9966 - val_loss: 0.0732 - val_acc: 0.9771\n",
      "Epoch 19/30\n",
      "60000/60000 [==============================] - 3s 45us/step - loss: 0.0193 - acc: 0.9966 - val_loss: 0.0737 - val_acc: 0.9772\n",
      "Epoch 20/30\n",
      "60000/60000 [==============================] - 3s 45us/step - loss: 0.0191 - acc: 0.9966 - val_loss: 0.0737 - val_acc: 0.9772\n",
      "Epoch 21/30\n",
      "60000/60000 [==============================] - 3s 45us/step - loss: 0.0189 - acc: 0.9967 - val_loss: 0.0735 - val_acc: 0.9777\n",
      "Epoch 22/30\n",
      "60000/60000 [==============================] - 3s 46us/step - loss: 0.0187 - acc: 0.9969 - val_loss: 0.0736 - val_acc: 0.9776\n",
      "Epoch 23/30\n",
      "60000/60000 [==============================] - 3s 46us/step - loss: 0.0185 - acc: 0.9969 - val_loss: 0.0738 - val_acc: 0.9775\n",
      "Epoch 24/30\n",
      "60000/60000 [==============================] - 3s 45us/step - loss: 0.0183 - acc: 0.9969 - val_loss: 0.0742 - val_acc: 0.9776\n",
      "Epoch 25/30\n",
      "60000/60000 [==============================] - 3s 45us/step - loss: 0.0180 - acc: 0.9971 - val_loss: 0.0749 - val_acc: 0.9775\n",
      "Epoch 26/30\n",
      "60000/60000 [==============================] - 3s 45us/step - loss: 0.0178 - acc: 0.9971 - val_loss: 0.0735 - val_acc: 0.9777\n",
      "Epoch 27/30\n",
      "60000/60000 [==============================] - 3s 46us/step - loss: 0.0177 - acc: 0.9970 - val_loss: 0.0739 - val_acc: 0.9776\n",
      "Epoch 28/30\n",
      "60000/60000 [==============================] - 3s 45us/step - loss: 0.0174 - acc: 0.9972 - val_loss: 0.0736 - val_acc: 0.9778\n",
      "Epoch 29/30\n",
      "60000/60000 [==============================] - 3s 46us/step - loss: 0.0173 - acc: 0.9973 - val_loss: 0.0747 - val_acc: 0.9780\n",
      "Epoch 30/30\n",
      "60000/60000 [==============================] - 3s 46us/step - loss: 0.0170 - acc: 0.9974 - val_loss: 0.0733 - val_acc: 0.9777\n"
     ]
    }
   ],
   "source": [
    "classes= [0.1,0.1,0.1,0.1,0.1,0.1,0.1,0.1,0.1,0.1]\n",
    "history = model.fit(x_train, y_train, batch_size=128, epochs=30, validation_data=(x_test, y_test), class_weight=classes)"
   ]
  },
  {
   "cell_type": "code",
   "execution_count": 16,
   "metadata": {
    "collapsed": false
   },
   "outputs": [
    {
     "name": "stdout",
     "output_type": "stream",
     "text": [
      "Test loss: 0.07325211380326654\n",
      "Test accuracy: 0.9777\n"
     ]
    }
   ],
   "source": [
    "score = model.evaluate(x_test, y_test, verbose=0)\n",
    "print('Test loss:', score[0])\n",
    "print('Test accuracy:', score[1])"
   ]
  },
  {
   "cell_type": "markdown",
   "metadata": {},
   "source": [
    "#with classes= [0.1,0.1,0.1,0.1,0.1,0.1,0.1,0.1,0.1,0.1], we have obtained a test accuracy = 0.977, and a test loss = 0.073, also these results is betten than the above results "
   ]
  },
  {
   "cell_type": "markdown",
   "metadata": {},
   "source": [
    "4) the fourth step: changing the architecture, we will add more neurons in each hidden layer"
   ]
  },
  {
   "cell_type": "code",
   "execution_count": 17,
   "metadata": {
    "collapsed": true
   },
   "outputs": [],
   "source": [
    "model = Sequential()\n",
    "model.add(Dense(256, activation='relu', input_shape=(784,)))\n",
    "model.add(Dense(256, activation='relu'))\n",
    "model.add(Dense(10, activation='softmax'))"
   ]
  },
  {
   "cell_type": "code",
   "execution_count": 18,
   "metadata": {
    "collapsed": true
   },
   "outputs": [],
   "source": [
    "model.compile(loss='categorical_crossentropy',optimizer=SGD(), metrics=['accuracy'])"
   ]
  },
  {
   "cell_type": "code",
   "execution_count": 23,
   "metadata": {
    "collapsed": false
   },
   "outputs": [
    {
     "name": "stdout",
     "output_type": "stream",
     "text": [
      "Train on 60000 samples, validate on 10000 samples\n",
      "Epoch 1/20\n",
      "60000/60000 [==============================] - 9s 150us/step - loss: 0.0559 - acc: 0.9847 - val_loss: 0.0815 - val_acc: 0.9772\n",
      "Epoch 2/20\n",
      "60000/60000 [==============================] - 9s 147us/step - loss: 0.0532 - acc: 0.9850 - val_loss: 0.0783 - val_acc: 0.9752\n",
      "Epoch 3/20\n",
      "60000/60000 [==============================] - 9s 146us/step - loss: 0.0507 - acc: 0.9864 - val_loss: 0.0785 - val_acc: 0.9763\n",
      "Epoch 4/20\n",
      "60000/60000 [==============================] - 9s 146us/step - loss: 0.0483 - acc: 0.9870 - val_loss: 0.0783 - val_acc: 0.9763\n",
      "Epoch 5/20\n",
      "60000/60000 [==============================] - 9s 148us/step - loss: 0.0460 - acc: 0.9877 - val_loss: 0.0762 - val_acc: 0.9774\n",
      "Epoch 6/20\n",
      "60000/60000 [==============================] - 9s 146us/step - loss: 0.0439 - acc: 0.9885 - val_loss: 0.0763 - val_acc: 0.9773\n",
      "Epoch 7/20\n",
      "60000/60000 [==============================] - 9s 148us/step - loss: 0.0419 - acc: 0.9892 - val_loss: 0.0739 - val_acc: 0.9780\n",
      "Epoch 8/20\n",
      "60000/60000 [==============================] - 9s 147us/step - loss: 0.0399 - acc: 0.9893 - val_loss: 0.0729 - val_acc: 0.9787\n",
      "Epoch 9/20\n",
      "60000/60000 [==============================] - 9s 146us/step - loss: 0.0381 - acc: 0.9897 - val_loss: 0.0713 - val_acc: 0.9781\n",
      "Epoch 10/20\n",
      "60000/60000 [==============================] - 9s 147us/step - loss: 0.0364 - acc: 0.9908 - val_loss: 0.0729 - val_acc: 0.9784\n",
      "Epoch 11/20\n",
      "60000/60000 [==============================] - 9s 148us/step - loss: 0.0349 - acc: 0.9912 - val_loss: 0.0730 - val_acc: 0.9788\n",
      "Epoch 12/20\n",
      "60000/60000 [==============================] - 9s 147us/step - loss: 0.0332 - acc: 0.9917 - val_loss: 0.0690 - val_acc: 0.9790\n",
      "Epoch 13/20\n",
      "60000/60000 [==============================] - 9s 146us/step - loss: 0.0318 - acc: 0.9922 - val_loss: 0.0693 - val_acc: 0.9779\n",
      "Epoch 14/20\n",
      "60000/60000 [==============================] - 9s 146us/step - loss: 0.0303 - acc: 0.9926 - val_loss: 0.0688 - val_acc: 0.9787\n",
      "Epoch 15/20\n",
      "60000/60000 [==============================] - 9s 147us/step - loss: 0.0292 - acc: 0.9930 - val_loss: 0.0709 - val_acc: 0.9787\n",
      "Epoch 16/20\n",
      "60000/60000 [==============================] - 9s 146us/step - loss: 0.0278 - acc: 0.9936 - val_loss: 0.0680 - val_acc: 0.9795\n",
      "Epoch 17/20\n",
      "60000/60000 [==============================] - 9s 147us/step - loss: 0.0266 - acc: 0.9940 - val_loss: 0.0674 - val_acc: 0.9796\n",
      "Epoch 18/20\n",
      "60000/60000 [==============================] - 9s 147us/step - loss: 0.0254 - acc: 0.9943 - val_loss: 0.0681 - val_acc: 0.9795\n",
      "Epoch 19/20\n",
      "60000/60000 [==============================] - 9s 147us/step - loss: 0.0244 - acc: 0.9946 - val_loss: 0.0691 - val_acc: 0.9799\n",
      "Epoch 20/20\n",
      "60000/60000 [==============================] - 9s 146us/step - loss: 0.0235 - acc: 0.9951 - val_loss: 0.0682 - val_acc: 0.9794\n"
     ]
    }
   ],
   "source": [
    "classes= [0.1,0.1,0.1,0.1,0.1,0.1,0.1,0.1,0.1,0.1]\n",
    "history = model.fit(x_train, y_train, batch_size=40, epochs=20, validation_data=(x_test, y_test), class_weight=classes)"
   ]
  },
  {
   "cell_type": "code",
   "execution_count": 24,
   "metadata": {
    "collapsed": false
   },
   "outputs": [
    {
     "name": "stdout",
     "output_type": "stream",
     "text": [
      "Test loss: 0.06823914499669335\n",
      "Test accuracy: 0.9794\n"
     ]
    }
   ],
   "source": [
    "score = model.evaluate(x_test, y_test, verbose=0)\n",
    "print('Test loss:', score[0])\n",
    "print('Test accuracy:', score[1])"
   ]
  },
  {
   "cell_type": "markdown",
   "metadata": {},
   "source": [
    "#with these changes of the Neural architecture, we have obtained a test accuracy = 0.979, and a test loss = 0.068, in which these results is better than the above results"
   ]
  },
  {
   "cell_type": "markdown",
   "metadata": {},
   "source": [
    "5) the last step: we will add more layers, 3 hidden layers, each with 256 neurons"
   ]
  },
  {
   "cell_type": "code",
   "execution_count": 25,
   "metadata": {
    "collapsed": true
   },
   "outputs": [],
   "source": [
    "model = Sequential()\n",
    "model.add(Dense(256, activation='relu', input_shape=(784,)))\n",
    "model.add(Dense(256, activation='relu'))\n",
    "model.add(Dense(256, activation='relu'))\n",
    "model.add(Dense(10, activation='softmax'))"
   ]
  },
  {
   "cell_type": "code",
   "execution_count": 26,
   "metadata": {
    "collapsed": true
   },
   "outputs": [],
   "source": [
    "model.compile(loss='categorical_crossentropy',optimizer=SGD(), metrics=['accuracy'])"
   ]
  },
  {
   "cell_type": "code",
   "execution_count": 31,
   "metadata": {
    "collapsed": false
   },
   "outputs": [
    {
     "name": "stdout",
     "output_type": "stream",
     "text": [
      "Train on 60000 samples, validate on 10000 samples\n",
      "Epoch 1/30\n",
      "60000/60000 [==============================] - 12s 198us/step - loss: 0.0078 - acc: 0.9992 - val_loss: 0.0764 - val_acc: 0.9796\n",
      "Epoch 2/30\n",
      "60000/60000 [==============================] - 12s 196us/step - loss: 0.0071 - acc: 0.9994 - val_loss: 0.0740 - val_acc: 0.9795\n",
      "Epoch 3/30\n",
      "60000/60000 [==============================] - 12s 196us/step - loss: 0.0066 - acc: 0.9995 - val_loss: 0.0756 - val_acc: 0.9789\n",
      "Epoch 4/30\n",
      "60000/60000 [==============================] - 12s 196us/step - loss: 0.0059 - acc: 0.9995 - val_loss: 0.0734 - val_acc: 0.9802\n",
      "Epoch 5/30\n",
      "60000/60000 [==============================] - 12s 201us/step - loss: 0.0055 - acc: 0.9996 - val_loss: 0.0738 - val_acc: 0.9804\n",
      "Epoch 6/30\n",
      "60000/60000 [==============================] - 12s 202us/step - loss: 0.0052 - acc: 0.9997 - val_loss: 0.0776 - val_acc: 0.9803\n",
      "Epoch 7/30\n",
      "60000/60000 [==============================] - 12s 199us/step - loss: 0.0046 - acc: 0.9997 - val_loss: 0.0755 - val_acc: 0.9794\n",
      "Epoch 8/30\n",
      "60000/60000 [==============================] - 12s 196us/step - loss: 0.0042 - acc: 0.9997 - val_loss: 0.0761 - val_acc: 0.9800\n",
      "Epoch 9/30\n",
      "60000/60000 [==============================] - 12s 197us/step - loss: 0.0039 - acc: 0.9998 - val_loss: 0.0760 - val_acc: 0.9799\n",
      "Epoch 10/30\n",
      "60000/60000 [==============================] - 12s 197us/step - loss: 0.0037 - acc: 0.9998 - val_loss: 0.0756 - val_acc: 0.9811\n",
      "Epoch 11/30\n",
      "60000/60000 [==============================] - 12s 196us/step - loss: 0.0033 - acc: 0.9999 - val_loss: 0.0800 - val_acc: 0.9799\n",
      "Epoch 12/30\n",
      "60000/60000 [==============================] - 12s 197us/step - loss: 0.0031 - acc: 0.9999 - val_loss: 0.0777 - val_acc: 0.9800\n",
      "Epoch 13/30\n",
      "60000/60000 [==============================] - 12s 197us/step - loss: 0.0030 - acc: 0.9999 - val_loss: 0.0767 - val_acc: 0.9808\n",
      "Epoch 14/30\n",
      "60000/60000 [==============================] - 12s 199us/step - loss: 0.0027 - acc: 0.9999 - val_loss: 0.0776 - val_acc: 0.9799\n",
      "Epoch 15/30\n",
      "60000/60000 [==============================] - 12s 198us/step - loss: 0.0025 - acc: 1.0000 - val_loss: 0.0786 - val_acc: 0.9800\n",
      "Epoch 16/30\n",
      "60000/60000 [==============================] - 12s 199us/step - loss: 0.0024 - acc: 1.0000 - val_loss: 0.0799 - val_acc: 0.9797\n",
      "Epoch 17/30\n",
      "60000/60000 [==============================] - 12s 197us/step - loss: 0.0023 - acc: 1.0000 - val_loss: 0.0785 - val_acc: 0.9804\n",
      "Epoch 18/30\n",
      "60000/60000 [==============================] - 12s 198us/step - loss: 0.0021 - acc: 1.0000 - val_loss: 0.0814 - val_acc: 0.9794\n",
      "Epoch 19/30\n",
      "60000/60000 [==============================] - 12s 199us/step - loss: 0.0020 - acc: 1.0000 - val_loss: 0.0801 - val_acc: 0.9802\n",
      "Epoch 20/30\n",
      "60000/60000 [==============================] - 12s 198us/step - loss: 0.0019 - acc: 1.0000 - val_loss: 0.0811 - val_acc: 0.9796\n",
      "Epoch 21/30\n",
      "60000/60000 [==============================] - 12s 199us/step - loss: 0.0018 - acc: 1.0000 - val_loss: 0.0803 - val_acc: 0.9804\n",
      "Epoch 22/30\n",
      "60000/60000 [==============================] - 12s 198us/step - loss: 0.0017 - acc: 1.0000 - val_loss: 0.0811 - val_acc: 0.9801\n",
      "Epoch 23/30\n",
      "60000/60000 [==============================] - 12s 197us/step - loss: 0.0017 - acc: 1.0000 - val_loss: 0.0816 - val_acc: 0.9798\n",
      "Epoch 24/30\n",
      "60000/60000 [==============================] - 12s 198us/step - loss: 0.0016 - acc: 1.0000 - val_loss: 0.0811 - val_acc: 0.9805\n",
      "Epoch 25/30\n",
      "60000/60000 [==============================] - 12s 197us/step - loss: 0.0015 - acc: 1.0000 - val_loss: 0.0814 - val_acc: 0.9802\n",
      "Epoch 26/30\n",
      "60000/60000 [==============================] - 12s 197us/step - loss: 0.0015 - acc: 1.0000 - val_loss: 0.0819 - val_acc: 0.9802\n",
      "Epoch 27/30\n",
      "60000/60000 [==============================] - 12s 197us/step - loss: 0.0014 - acc: 1.0000 - val_loss: 0.0821 - val_acc: 0.9804\n",
      "Epoch 28/30\n",
      "60000/60000 [==============================] - 12s 198us/step - loss: 0.0013 - acc: 1.0000 - val_loss: 0.0822 - val_acc: 0.9803\n",
      "Epoch 29/30\n",
      "60000/60000 [==============================] - 12s 199us/step - loss: 0.0013 - acc: 1.0000 - val_loss: 0.0831 - val_acc: 0.9799\n",
      "Epoch 30/30\n",
      "60000/60000 [==============================] - 12s 199us/step - loss: 0.0013 - acc: 1.0000 - val_loss: 0.0831 - val_acc: 0.9806\n"
     ]
    }
   ],
   "source": [
    "history = model.fit(x_train, y_train, batch_size=32, epochs=30, validation_data=(x_test, y_test))"
   ]
  },
  {
   "cell_type": "code",
   "execution_count": 32,
   "metadata": {
    "collapsed": false
   },
   "outputs": [
    {
     "name": "stdout",
     "output_type": "stream",
     "text": [
      "Test loss: 0.08305254170282296\n",
      "Test accuracy: 0.9806\n"
     ]
    }
   ],
   "source": [
    "score = model.evaluate(x_test, y_test, verbose=0)\n",
    "print('Test loss:', score[0])\n",
    "print('Test accuracy:', score[1])"
   ]
  },
  {
   "cell_type": "markdown",
   "metadata": {},
   "source": [
    "#we have added only one layer, and we have obtained a test accuracy = 0.98, and a test loss = 0.083."
   ]
  },
  {
   "cell_type": "markdown",
   "metadata": {},
   "source": [
    "In the next part, we will use Convolutional Neural Networks to improve the results on the testing dataset\n"
   ]
  }
 ],
 "metadata": {
  "anaconda-cloud": {},
  "kernelspec": {
   "display_name": "Python [conda env:tensorflow]",
   "language": "python",
   "name": "conda-env-tensorflow-py"
  },
  "language_info": {
   "codemirror_mode": {
    "name": "ipython",
    "version": 3
   },
   "file_extension": ".py",
   "mimetype": "text/x-python",
   "name": "python",
   "nbconvert_exporter": "python",
   "pygments_lexer": "ipython3",
   "version": "3.5.4"
  }
 },
 "nbformat": 4,
 "nbformat_minor": 1
}
